{
 "cells": [
  {
   "cell_type": "markdown",
   "metadata": {},
   "source": [
    "# Exploratory Data Analysis"
   ]
  },
  {
   "cell_type": "markdown",
   "metadata": {},
   "source": [
    "Breve Explicação sobre notebook"
   ]
  },
  {
   "cell_type": "markdown",
   "metadata": {},
   "source": [
    "## Summary??"
   ]
  },
  {
   "cell_type": "markdown",
   "metadata": {},
   "source": [
    "## 1. Import Libraries and Utilities"
   ]
  },
  {
   "cell_type": "code",
   "execution_count": 12,
   "metadata": {},
   "outputs": [],
   "source": [
    "# Import libraries\n",
    "import pandas as pd\n",
    "import matplotlib.pyplot as plt\n",
    "from pylab import rcParams\n",
    "import numpy as np\n",
    "import seaborn as sns"
   ]
  },
  {
   "cell_type": "code",
   "execution_count": 57,
   "metadata": {},
   "outputs": [],
   "source": [
    "# Import utilities\n",
    "from EDA.age import calc_age\n",
    "from EDA.educ import education\n",
    "from EDA.data_load import data_load\n",
    "from EDA.cat_num import categorical_numerical\n",
    "from EDA.bar_chart import bar_chart\n",
    "from EDA.freq_cat import frequency_categorical\n",
    "from EDA.gender import cat_to_binary\n",
    "from EDA.boxplot import boxplot"
   ]
  },
  {
   "cell_type": "markdown",
   "metadata": {},
   "source": [
    "## 2. Import Dataset"
   ]
  },
  {
   "cell_type": "code",
   "execution_count": 14,
   "metadata": {},
   "outputs": [],
   "source": [
    "# Import dataset\n",
    "cust_info = data_load('.\\\\Data\\\\Customer Info Dataset.csv')"
   ]
  },
  {
   "cell_type": "code",
   "execution_count": 15,
   "metadata": {},
   "outputs": [
    {
     "data": {
      "text/html": [
       "<div>\n",
       "<style scoped>\n",
       "    .dataframe tbody tr th:only-of-type {\n",
       "        vertical-align: middle;\n",
       "    }\n",
       "\n",
       "    .dataframe tbody tr th {\n",
       "        vertical-align: top;\n",
       "    }\n",
       "\n",
       "    .dataframe thead th {\n",
       "        text-align: right;\n",
       "    }\n",
       "</style>\n",
       "<table border=\"1\" class=\"dataframe\">\n",
       "  <thead>\n",
       "    <tr style=\"text-align: right;\">\n",
       "      <th></th>\n",
       "      <th>customer_id</th>\n",
       "      <th>customer_name</th>\n",
       "      <th>customer_gender</th>\n",
       "      <th>customer_birthdate</th>\n",
       "      <th>kids_home</th>\n",
       "      <th>teens_home</th>\n",
       "      <th>number_complaints</th>\n",
       "      <th>distinct_stores_visited</th>\n",
       "      <th>lifetime_spend_groceries</th>\n",
       "      <th>lifetime_spend_electronics</th>\n",
       "      <th>...</th>\n",
       "      <th>lifetime_spend_meat</th>\n",
       "      <th>lifetime_spend_fish</th>\n",
       "      <th>lifetime_spend_hygiene</th>\n",
       "      <th>lifetime_spend_videogames</th>\n",
       "      <th>lifetime_total_distinct_products</th>\n",
       "      <th>percentage_of_products_bought_promotion</th>\n",
       "      <th>year_first_transaction</th>\n",
       "      <th>loyalty_card_number</th>\n",
       "      <th>latitude</th>\n",
       "      <th>longitude</th>\n",
       "    </tr>\n",
       "  </thead>\n",
       "  <tbody>\n",
       "    <tr>\n",
       "      <th>0</th>\n",
       "      <td>4239</td>\n",
       "      <td>Sara Moscowitz</td>\n",
       "      <td>female</td>\n",
       "      <td>09/10/1999 03:11 PM</td>\n",
       "      <td>0.0</td>\n",
       "      <td>0.0</td>\n",
       "      <td>0.0</td>\n",
       "      <td>2.0</td>\n",
       "      <td>91.0</td>\n",
       "      <td>20.0</td>\n",
       "      <td>...</td>\n",
       "      <td>53.0</td>\n",
       "      <td>48.0</td>\n",
       "      <td>47.0</td>\n",
       "      <td>105.0</td>\n",
       "      <td>85.0</td>\n",
       "      <td>0.192154</td>\n",
       "      <td>2017.0</td>\n",
       "      <td>NaN</td>\n",
       "      <td>38.754263</td>\n",
       "      <td>-9.163397</td>\n",
       "    </tr>\n",
       "    <tr>\n",
       "      <th>1</th>\n",
       "      <td>19330</td>\n",
       "      <td>Donald Robertson</td>\n",
       "      <td>male</td>\n",
       "      <td>06/26/1981 10:58 PM</td>\n",
       "      <td>1.0</td>\n",
       "      <td>0.0</td>\n",
       "      <td>0.0</td>\n",
       "      <td>2.0</td>\n",
       "      <td>197.0</td>\n",
       "      <td>5958.0</td>\n",
       "      <td>...</td>\n",
       "      <td>86.0</td>\n",
       "      <td>80.0</td>\n",
       "      <td>45.0</td>\n",
       "      <td>1964.0</td>\n",
       "      <td>85.0</td>\n",
       "      <td>0.098647</td>\n",
       "      <td>2015.0</td>\n",
       "      <td>NaN</td>\n",
       "      <td>38.777761</td>\n",
       "      <td>-9.156197</td>\n",
       "    </tr>\n",
       "    <tr>\n",
       "      <th>2</th>\n",
       "      <td>2272</td>\n",
       "      <td>Phd. Felicia Bradshaw</td>\n",
       "      <td>female</td>\n",
       "      <td>01/31/1987 09:08 AM</td>\n",
       "      <td>1.0</td>\n",
       "      <td>1.0</td>\n",
       "      <td>0.0</td>\n",
       "      <td>20.0</td>\n",
       "      <td>397.0</td>\n",
       "      <td>20.0</td>\n",
       "      <td>...</td>\n",
       "      <td>204.0</td>\n",
       "      <td>170.0</td>\n",
       "      <td>46.0</td>\n",
       "      <td>5.0</td>\n",
       "      <td>408.0</td>\n",
       "      <td>0.497251</td>\n",
       "      <td>2008.0</td>\n",
       "      <td>NaN</td>\n",
       "      <td>38.785329</td>\n",
       "      <td>-9.127113</td>\n",
       "    </tr>\n",
       "    <tr>\n",
       "      <th>3</th>\n",
       "      <td>25288</td>\n",
       "      <td>Emma Williams</td>\n",
       "      <td>female</td>\n",
       "      <td>06/17/1942 12:02 AM</td>\n",
       "      <td>3.0</td>\n",
       "      <td>4.0</td>\n",
       "      <td>1.0</td>\n",
       "      <td>2.0</td>\n",
       "      <td>5282.0</td>\n",
       "      <td>237.0</td>\n",
       "      <td>...</td>\n",
       "      <td>1081.0</td>\n",
       "      <td>1068.0</td>\n",
       "      <td>617.0</td>\n",
       "      <td>1078.0</td>\n",
       "      <td>1956.0</td>\n",
       "      <td>0.206713</td>\n",
       "      <td>2010.0</td>\n",
       "      <td>NaN</td>\n",
       "      <td>38.744086</td>\n",
       "      <td>-9.156589</td>\n",
       "    </tr>\n",
       "    <tr>\n",
       "      <th>4</th>\n",
       "      <td>12829</td>\n",
       "      <td>Hilda Huerta</td>\n",
       "      <td>female</td>\n",
       "      <td>01/31/2000 11:43 AM</td>\n",
       "      <td>0.0</td>\n",
       "      <td>0.0</td>\n",
       "      <td>0.0</td>\n",
       "      <td>2.0</td>\n",
       "      <td>82.0</td>\n",
       "      <td>22.0</td>\n",
       "      <td>...</td>\n",
       "      <td>39.0</td>\n",
       "      <td>39.0</td>\n",
       "      <td>48.0</td>\n",
       "      <td>103.0</td>\n",
       "      <td>83.0</td>\n",
       "      <td>0.200625</td>\n",
       "      <td>2015.0</td>\n",
       "      <td>NaN</td>\n",
       "      <td>38.756024</td>\n",
       "      <td>-9.162970</td>\n",
       "    </tr>\n",
       "  </tbody>\n",
       "</table>\n",
       "<p>5 rows × 24 columns</p>\n",
       "</div>"
      ],
      "text/plain": [
       "   customer_id          customer_name customer_gender   customer_birthdate  \\\n",
       "0         4239         Sara Moscowitz          female  09/10/1999 03:11 PM   \n",
       "1        19330       Donald Robertson            male  06/26/1981 10:58 PM   \n",
       "2         2272  Phd. Felicia Bradshaw          female  01/31/1987 09:08 AM   \n",
       "3        25288          Emma Williams          female  06/17/1942 12:02 AM   \n",
       "4        12829           Hilda Huerta          female  01/31/2000 11:43 AM   \n",
       "\n",
       "   kids_home  teens_home  number_complaints  distinct_stores_visited  \\\n",
       "0        0.0         0.0                0.0                      2.0   \n",
       "1        1.0         0.0                0.0                      2.0   \n",
       "2        1.0         1.0                0.0                     20.0   \n",
       "3        3.0         4.0                1.0                      2.0   \n",
       "4        0.0         0.0                0.0                      2.0   \n",
       "\n",
       "   lifetime_spend_groceries  lifetime_spend_electronics  ...  \\\n",
       "0                      91.0                        20.0  ...   \n",
       "1                     197.0                      5958.0  ...   \n",
       "2                     397.0                        20.0  ...   \n",
       "3                    5282.0                       237.0  ...   \n",
       "4                      82.0                        22.0  ...   \n",
       "\n",
       "   lifetime_spend_meat  lifetime_spend_fish  lifetime_spend_hygiene  \\\n",
       "0                 53.0                 48.0                    47.0   \n",
       "1                 86.0                 80.0                    45.0   \n",
       "2                204.0                170.0                    46.0   \n",
       "3               1081.0               1068.0                   617.0   \n",
       "4                 39.0                 39.0                    48.0   \n",
       "\n",
       "   lifetime_spend_videogames  lifetime_total_distinct_products  \\\n",
       "0                      105.0                              85.0   \n",
       "1                     1964.0                              85.0   \n",
       "2                        5.0                             408.0   \n",
       "3                     1078.0                            1956.0   \n",
       "4                      103.0                              83.0   \n",
       "\n",
       "   percentage_of_products_bought_promotion  year_first_transaction  \\\n",
       "0                                 0.192154                  2017.0   \n",
       "1                                 0.098647                  2015.0   \n",
       "2                                 0.497251                  2008.0   \n",
       "3                                 0.206713                  2010.0   \n",
       "4                                 0.200625                  2015.0   \n",
       "\n",
       "   loyalty_card_number   latitude  longitude  \n",
       "0                  NaN  38.754263  -9.163397  \n",
       "1                  NaN  38.777761  -9.156197  \n",
       "2                  NaN  38.785329  -9.127113  \n",
       "3                  NaN  38.744086  -9.156589  \n",
       "4                  NaN  38.756024  -9.162970  \n",
       "\n",
       "[5 rows x 24 columns]"
      ]
     },
     "execution_count": 15,
     "metadata": {},
     "output_type": "execute_result"
    }
   ],
   "source": [
    "# See dataset\n",
    "cust_info.head()"
   ]
  },
  {
   "cell_type": "markdown",
   "metadata": {},
   "source": [
    "## 3. Check duplicates "
   ]
  },
  {
   "cell_type": "code",
   "execution_count": 16,
   "metadata": {},
   "outputs": [
    {
     "data": {
      "text/plain": [
       "0"
      ]
     },
     "execution_count": 16,
     "metadata": {},
     "output_type": "execute_result"
    }
   ],
   "source": [
    "# Search for duplicated 'customer_id'\n",
    "cust_info['customer_id'].duplicated().sum()"
   ]
  },
  {
   "cell_type": "markdown",
   "metadata": {},
   "source": [
    "Não sei o que escrever"
   ]
  },
  {
   "cell_type": "code",
   "execution_count": 17,
   "metadata": {},
   "outputs": [],
   "source": [
    "# Set 'customer_id' as index\n",
    "cust_info = cust_info.set_index('customer_id')"
   ]
  },
  {
   "cell_type": "markdown",
   "metadata": {},
   "source": [
    "## 4. Check Data Types "
   ]
  },
  {
   "cell_type": "code",
   "execution_count": 18,
   "metadata": {},
   "outputs": [
    {
     "data": {
      "text/plain": [
       "customer_name                               object\n",
       "customer_gender                             object\n",
       "customer_birthdate                          object\n",
       "kids_home                                  float64\n",
       "teens_home                                 float64\n",
       "number_complaints                          float64\n",
       "distinct_stores_visited                    float64\n",
       "lifetime_spend_groceries                   float64\n",
       "lifetime_spend_electronics                 float64\n",
       "typical_hour                               float64\n",
       "lifetime_spend_vegetables                  float64\n",
       "lifetime_spend_nonalcohol_drinks           float64\n",
       "lifetime_spend_alcohol_drinks              float64\n",
       "lifetime_spend_meat                        float64\n",
       "lifetime_spend_fish                        float64\n",
       "lifetime_spend_hygiene                     float64\n",
       "lifetime_spend_videogames                  float64\n",
       "lifetime_total_distinct_products           float64\n",
       "percentage_of_products_bought_promotion    float64\n",
       "year_first_transaction                     float64\n",
       "loyalty_card_number                        float64\n",
       "latitude                                   float64\n",
       "longitude                                  float64\n",
       "dtype: object"
      ]
     },
     "execution_count": 18,
     "metadata": {},
     "output_type": "execute_result"
    }
   ],
   "source": [
    "cust_info.dtypes"
   ]
  },
  {
   "cell_type": "markdown",
   "metadata": {},
   "source": [
    "## 5. Missing Values "
   ]
  },
  {
   "cell_type": "code",
   "execution_count": 19,
   "metadata": {},
   "outputs": [
    {
     "data": {
      "text/plain": [
       "customer_name                                  0\n",
       "customer_gender                                0\n",
       "customer_birthdate                             0\n",
       "kids_home                                      0\n",
       "teens_home                                     0\n",
       "number_complaints                              0\n",
       "distinct_stores_visited                        0\n",
       "lifetime_spend_groceries                       0\n",
       "lifetime_spend_electronics                     0\n",
       "typical_hour                                   0\n",
       "lifetime_spend_vegetables                      0\n",
       "lifetime_spend_nonalcohol_drinks               0\n",
       "lifetime_spend_alcohol_drinks                  0\n",
       "lifetime_spend_meat                            0\n",
       "lifetime_spend_fish                            0\n",
       "lifetime_spend_hygiene                         0\n",
       "lifetime_spend_videogames                      0\n",
       "lifetime_total_distinct_products               0\n",
       "percentage_of_products_bought_promotion        0\n",
       "year_first_transaction                         0\n",
       "loyalty_card_number                        24175\n",
       "latitude                                       0\n",
       "longitude                                      0\n",
       "dtype: int64"
      ]
     },
     "execution_count": 19,
     "metadata": {},
     "output_type": "execute_result"
    }
   ],
   "source": [
    "# Search for missing data\n",
    "cust_info.isna().sum()"
   ]
  },
  {
   "cell_type": "markdown",
   "metadata": {},
   "source": [
    "## 6. Summary Statistics "
   ]
  },
  {
   "cell_type": "code",
   "execution_count": 20,
   "metadata": {},
   "outputs": [
    {
     "data": {
      "text/html": [
       "<div>\n",
       "<style scoped>\n",
       "    .dataframe tbody tr th:only-of-type {\n",
       "        vertical-align: middle;\n",
       "    }\n",
       "\n",
       "    .dataframe tbody tr th {\n",
       "        vertical-align: top;\n",
       "    }\n",
       "\n",
       "    .dataframe thead th {\n",
       "        text-align: right;\n",
       "    }\n",
       "</style>\n",
       "<table border=\"1\" class=\"dataframe\">\n",
       "  <thead>\n",
       "    <tr style=\"text-align: right;\">\n",
       "      <th></th>\n",
       "      <th>count</th>\n",
       "      <th>mean</th>\n",
       "      <th>std</th>\n",
       "      <th>min</th>\n",
       "      <th>25%</th>\n",
       "      <th>50%</th>\n",
       "      <th>75%</th>\n",
       "      <th>max</th>\n",
       "    </tr>\n",
       "  </thead>\n",
       "  <tbody>\n",
       "    <tr>\n",
       "      <th>kids_home</th>\n",
       "      <td>30000.0</td>\n",
       "      <td>1.146700e+00</td>\n",
       "      <td>1.234111</td>\n",
       "      <td>0.000000e+00</td>\n",
       "      <td>0.000000</td>\n",
       "      <td>1.000000</td>\n",
       "      <td>1.000000</td>\n",
       "      <td>10.000000</td>\n",
       "    </tr>\n",
       "    <tr>\n",
       "      <th>teens_home</th>\n",
       "      <td>30000.0</td>\n",
       "      <td>5.129333e-01</td>\n",
       "      <td>0.912502</td>\n",
       "      <td>0.000000e+00</td>\n",
       "      <td>0.000000</td>\n",
       "      <td>0.000000</td>\n",
       "      <td>1.000000</td>\n",
       "      <td>9.000000</td>\n",
       "    </tr>\n",
       "    <tr>\n",
       "      <th>number_complaints</th>\n",
       "      <td>30000.0</td>\n",
       "      <td>7.643667e-01</td>\n",
       "      <td>0.836341</td>\n",
       "      <td>0.000000e+00</td>\n",
       "      <td>0.000000</td>\n",
       "      <td>1.000000</td>\n",
       "      <td>1.000000</td>\n",
       "      <td>9.000000</td>\n",
       "    </tr>\n",
       "    <tr>\n",
       "      <th>distinct_stores_visited</th>\n",
       "      <td>30000.0</td>\n",
       "      <td>6.120767e+00</td>\n",
       "      <td>6.511410</td>\n",
       "      <td>0.000000e+00</td>\n",
       "      <td>2.000000</td>\n",
       "      <td>3.000000</td>\n",
       "      <td>8.000000</td>\n",
       "      <td>21.000000</td>\n",
       "    </tr>\n",
       "    <tr>\n",
       "      <th>lifetime_spend_groceries</th>\n",
       "      <td>30000.0</td>\n",
       "      <td>3.978634e+03</td>\n",
       "      <td>5280.641466</td>\n",
       "      <td>0.000000e+00</td>\n",
       "      <td>220.000000</td>\n",
       "      <td>950.000000</td>\n",
       "      <td>5253.000000</td>\n",
       "      <td>18852.000000</td>\n",
       "    </tr>\n",
       "    <tr>\n",
       "      <th>lifetime_spend_electronics</th>\n",
       "      <td>30000.0</td>\n",
       "      <td>9.652388e+02</td>\n",
       "      <td>1755.323397</td>\n",
       "      <td>1.058527e+00</td>\n",
       "      <td>45.000000</td>\n",
       "      <td>194.000000</td>\n",
       "      <td>721.000000</td>\n",
       "      <td>6603.000000</td>\n",
       "    </tr>\n",
       "    <tr>\n",
       "      <th>typical_hour</th>\n",
       "      <td>30000.0</td>\n",
       "      <td>-inf</td>\n",
       "      <td>NaN</td>\n",
       "      <td>-inf</td>\n",
       "      <td>9.000000</td>\n",
       "      <td>14.000000</td>\n",
       "      <td>20.000000</td>\n",
       "      <td>23.000000</td>\n",
       "    </tr>\n",
       "    <tr>\n",
       "      <th>lifetime_spend_vegetables</th>\n",
       "      <td>30000.0</td>\n",
       "      <td>5.642078e+02</td>\n",
       "      <td>481.819086</td>\n",
       "      <td>1.000000e+00</td>\n",
       "      <td>247.000000</td>\n",
       "      <td>425.000000</td>\n",
       "      <td>785.000000</td>\n",
       "      <td>1568.000000</td>\n",
       "    </tr>\n",
       "    <tr>\n",
       "      <th>lifetime_spend_nonalcohol_drinks</th>\n",
       "      <td>30000.0</td>\n",
       "      <td>6.287501e+02</td>\n",
       "      <td>496.346400</td>\n",
       "      <td>0.000000e+00</td>\n",
       "      <td>244.000000</td>\n",
       "      <td>425.000000</td>\n",
       "      <td>949.000000</td>\n",
       "      <td>1671.000000</td>\n",
       "    </tr>\n",
       "    <tr>\n",
       "      <th>lifetime_spend_alcohol_drinks</th>\n",
       "      <td>30000.0</td>\n",
       "      <td>3.793445e+02</td>\n",
       "      <td>236.206400</td>\n",
       "      <td>0.000000e+00</td>\n",
       "      <td>193.000000</td>\n",
       "      <td>419.000000</td>\n",
       "      <td>537.000000</td>\n",
       "      <td>1048.000000</td>\n",
       "    </tr>\n",
       "    <tr>\n",
       "      <th>lifetime_spend_meat</th>\n",
       "      <td>30000.0</td>\n",
       "      <td>5.138784e+02</td>\n",
       "      <td>575.448347</td>\n",
       "      <td>0.000000e+00</td>\n",
       "      <td>46.000000</td>\n",
       "      <td>164.000000</td>\n",
       "      <td>1078.000000</td>\n",
       "      <td>1860.000000</td>\n",
       "    </tr>\n",
       "    <tr>\n",
       "      <th>lifetime_spend_fish</th>\n",
       "      <td>30000.0</td>\n",
       "      <td>7.771518e+02</td>\n",
       "      <td>3036.405862</td>\n",
       "      <td>0.000000e+00</td>\n",
       "      <td>48.000000</td>\n",
       "      <td>166.000000</td>\n",
       "      <td>1091.000000</td>\n",
       "      <td>36243.000000</td>\n",
       "    </tr>\n",
       "    <tr>\n",
       "      <th>lifetime_spend_hygiene</th>\n",
       "      <td>30000.0</td>\n",
       "      <td>1.628245e+02</td>\n",
       "      <td>168.547217</td>\n",
       "      <td>0.000000e+00</td>\n",
       "      <td>50.000000</td>\n",
       "      <td>89.000000</td>\n",
       "      <td>223.000000</td>\n",
       "      <td>867.000000</td>\n",
       "    </tr>\n",
       "    <tr>\n",
       "      <th>lifetime_spend_videogames</th>\n",
       "      <td>30000.0</td>\n",
       "      <td>-inf</td>\n",
       "      <td>NaN</td>\n",
       "      <td>-inf</td>\n",
       "      <td>46.000000</td>\n",
       "      <td>92.000000</td>\n",
       "      <td>968.000000</td>\n",
       "      <td>2375.000000</td>\n",
       "    </tr>\n",
       "    <tr>\n",
       "      <th>lifetime_total_distinct_products</th>\n",
       "      <td>30000.0</td>\n",
       "      <td>1.123887e+03</td>\n",
       "      <td>1423.956421</td>\n",
       "      <td>0.000000e+00</td>\n",
       "      <td>116.000000</td>\n",
       "      <td>427.000000</td>\n",
       "      <td>1980.000000</td>\n",
       "      <td>5818.000000</td>\n",
       "    </tr>\n",
       "    <tr>\n",
       "      <th>percentage_of_products_bought_promotion</th>\n",
       "      <td>30000.0</td>\n",
       "      <td>1.909811e-01</td>\n",
       "      <td>0.145402</td>\n",
       "      <td>2.192022e-02</td>\n",
       "      <td>0.099313</td>\n",
       "      <td>0.149777</td>\n",
       "      <td>0.201240</td>\n",
       "      <td>0.517190</td>\n",
       "    </tr>\n",
       "    <tr>\n",
       "      <th>year_first_transaction</th>\n",
       "      <td>30000.0</td>\n",
       "      <td>2.008684e+03</td>\n",
       "      <td>4.992296</td>\n",
       "      <td>1.989000e+03</td>\n",
       "      <td>2006.000000</td>\n",
       "      <td>2009.000000</td>\n",
       "      <td>2012.000000</td>\n",
       "      <td>2020.000000</td>\n",
       "    </tr>\n",
       "    <tr>\n",
       "      <th>loyalty_card_number</th>\n",
       "      <td>5825.0</td>\n",
       "      <td>9.499115e+05</td>\n",
       "      <td>28920.116430</td>\n",
       "      <td>9.000390e+05</td>\n",
       "      <td>924547.000000</td>\n",
       "      <td>950215.000000</td>\n",
       "      <td>974937.000000</td>\n",
       "      <td>999997.000000</td>\n",
       "    </tr>\n",
       "    <tr>\n",
       "      <th>latitude</th>\n",
       "      <td>30000.0</td>\n",
       "      <td>3.874822e+01</td>\n",
       "      <td>0.024788</td>\n",
       "      <td>3.865335e+01</td>\n",
       "      <td>38.731150</td>\n",
       "      <td>38.748200</td>\n",
       "      <td>38.765098</td>\n",
       "      <td>38.866765</td>\n",
       "    </tr>\n",
       "    <tr>\n",
       "      <th>longitude</th>\n",
       "      <td>30000.0</td>\n",
       "      <td>-9.157740e+00</td>\n",
       "      <td>0.025749</td>\n",
       "      <td>-9.215240e+00</td>\n",
       "      <td>-9.177770</td>\n",
       "      <td>-9.159280</td>\n",
       "      <td>-9.139674</td>\n",
       "      <td>-9.091217</td>\n",
       "    </tr>\n",
       "  </tbody>\n",
       "</table>\n",
       "</div>"
      ],
      "text/plain": [
       "                                           count          mean           std  \\\n",
       "kids_home                                30000.0  1.146700e+00      1.234111   \n",
       "teens_home                               30000.0  5.129333e-01      0.912502   \n",
       "number_complaints                        30000.0  7.643667e-01      0.836341   \n",
       "distinct_stores_visited                  30000.0  6.120767e+00      6.511410   \n",
       "lifetime_spend_groceries                 30000.0  3.978634e+03   5280.641466   \n",
       "lifetime_spend_electronics               30000.0  9.652388e+02   1755.323397   \n",
       "typical_hour                             30000.0          -inf           NaN   \n",
       "lifetime_spend_vegetables                30000.0  5.642078e+02    481.819086   \n",
       "lifetime_spend_nonalcohol_drinks         30000.0  6.287501e+02    496.346400   \n",
       "lifetime_spend_alcohol_drinks            30000.0  3.793445e+02    236.206400   \n",
       "lifetime_spend_meat                      30000.0  5.138784e+02    575.448347   \n",
       "lifetime_spend_fish                      30000.0  7.771518e+02   3036.405862   \n",
       "lifetime_spend_hygiene                   30000.0  1.628245e+02    168.547217   \n",
       "lifetime_spend_videogames                30000.0          -inf           NaN   \n",
       "lifetime_total_distinct_products         30000.0  1.123887e+03   1423.956421   \n",
       "percentage_of_products_bought_promotion  30000.0  1.909811e-01      0.145402   \n",
       "year_first_transaction                   30000.0  2.008684e+03      4.992296   \n",
       "loyalty_card_number                       5825.0  9.499115e+05  28920.116430   \n",
       "latitude                                 30000.0  3.874822e+01      0.024788   \n",
       "longitude                                30000.0 -9.157740e+00      0.025749   \n",
       "\n",
       "                                                  min            25%  \\\n",
       "kids_home                                0.000000e+00       0.000000   \n",
       "teens_home                               0.000000e+00       0.000000   \n",
       "number_complaints                        0.000000e+00       0.000000   \n",
       "distinct_stores_visited                  0.000000e+00       2.000000   \n",
       "lifetime_spend_groceries                 0.000000e+00     220.000000   \n",
       "lifetime_spend_electronics               1.058527e+00      45.000000   \n",
       "typical_hour                                     -inf       9.000000   \n",
       "lifetime_spend_vegetables                1.000000e+00     247.000000   \n",
       "lifetime_spend_nonalcohol_drinks         0.000000e+00     244.000000   \n",
       "lifetime_spend_alcohol_drinks            0.000000e+00     193.000000   \n",
       "lifetime_spend_meat                      0.000000e+00      46.000000   \n",
       "lifetime_spend_fish                      0.000000e+00      48.000000   \n",
       "lifetime_spend_hygiene                   0.000000e+00      50.000000   \n",
       "lifetime_spend_videogames                        -inf      46.000000   \n",
       "lifetime_total_distinct_products         0.000000e+00     116.000000   \n",
       "percentage_of_products_bought_promotion  2.192022e-02       0.099313   \n",
       "year_first_transaction                   1.989000e+03    2006.000000   \n",
       "loyalty_card_number                      9.000390e+05  924547.000000   \n",
       "latitude                                 3.865335e+01      38.731150   \n",
       "longitude                               -9.215240e+00      -9.177770   \n",
       "\n",
       "                                                   50%            75%  \\\n",
       "kids_home                                     1.000000       1.000000   \n",
       "teens_home                                    0.000000       1.000000   \n",
       "number_complaints                             1.000000       1.000000   \n",
       "distinct_stores_visited                       3.000000       8.000000   \n",
       "lifetime_spend_groceries                    950.000000    5253.000000   \n",
       "lifetime_spend_electronics                  194.000000     721.000000   \n",
       "typical_hour                                 14.000000      20.000000   \n",
       "lifetime_spend_vegetables                   425.000000     785.000000   \n",
       "lifetime_spend_nonalcohol_drinks            425.000000     949.000000   \n",
       "lifetime_spend_alcohol_drinks               419.000000     537.000000   \n",
       "lifetime_spend_meat                         164.000000    1078.000000   \n",
       "lifetime_spend_fish                         166.000000    1091.000000   \n",
       "lifetime_spend_hygiene                       89.000000     223.000000   \n",
       "lifetime_spend_videogames                    92.000000     968.000000   \n",
       "lifetime_total_distinct_products            427.000000    1980.000000   \n",
       "percentage_of_products_bought_promotion       0.149777       0.201240   \n",
       "year_first_transaction                     2009.000000    2012.000000   \n",
       "loyalty_card_number                      950215.000000  974937.000000   \n",
       "latitude                                     38.748200      38.765098   \n",
       "longitude                                    -9.159280      -9.139674   \n",
       "\n",
       "                                                   max  \n",
       "kids_home                                    10.000000  \n",
       "teens_home                                    9.000000  \n",
       "number_complaints                             9.000000  \n",
       "distinct_stores_visited                      21.000000  \n",
       "lifetime_spend_groceries                  18852.000000  \n",
       "lifetime_spend_electronics                 6603.000000  \n",
       "typical_hour                                 23.000000  \n",
       "lifetime_spend_vegetables                  1568.000000  \n",
       "lifetime_spend_nonalcohol_drinks           1671.000000  \n",
       "lifetime_spend_alcohol_drinks              1048.000000  \n",
       "lifetime_spend_meat                        1860.000000  \n",
       "lifetime_spend_fish                       36243.000000  \n",
       "lifetime_spend_hygiene                      867.000000  \n",
       "lifetime_spend_videogames                  2375.000000  \n",
       "lifetime_total_distinct_products           5818.000000  \n",
       "percentage_of_products_bought_promotion       0.517190  \n",
       "year_first_transaction                     2020.000000  \n",
       "loyalty_card_number                      999997.000000  \n",
       "latitude                                     38.866765  \n",
       "longitude                                    -9.091217  "
      ]
     },
     "execution_count": 20,
     "metadata": {},
     "output_type": "execute_result"
    }
   ],
   "source": [
    "# Get to know the dataset\n",
    "cust_info.describe().T"
   ]
  },
  {
   "cell_type": "markdown",
   "metadata": {},
   "source": [
    "## 7. Identify Anomalies"
   ]
  },
  {
   "cell_type": "markdown",
   "metadata": {},
   "source": [
    "## 8. Identify Outliers"
   ]
  },
  {
   "cell_type": "markdown",
   "metadata": {},
   "source": [
    "## 9. Feature Engineering"
   ]
  },
  {
   "cell_type": "markdown",
   "metadata": {},
   "source": [
    "Date of birth to age"
   ]
  },
  {
   "cell_type": "code",
   "execution_count": 21,
   "metadata": {},
   "outputs": [
    {
     "data": {
      "text/plain": [
       "customer_id\n",
       "4239     23\n",
       "19330    41\n",
       "2272     36\n",
       "25288    80\n",
       "12829    23\n",
       "         ..\n",
       "625      48\n",
       "26447    37\n",
       "182      22\n",
       "13768    64\n",
       "2570     79\n",
       "Name: age, Length: 30000, dtype: int32"
      ]
     },
     "execution_count": 21,
     "metadata": {},
     "output_type": "execute_result"
    }
   ],
   "source": [
    "# Calculate age of each customer\n",
    "calc_age(cust_info)\n",
    "cust_info['age']"
   ]
  },
  {
   "cell_type": "markdown",
   "metadata": {},
   "source": [
    "Level of education in the variable name"
   ]
  },
  {
   "cell_type": "code",
   "execution_count": 22,
   "metadata": {
    "scrolled": false
   },
   "outputs": [
    {
     "data": {
      "text/plain": [
       "customer_id\n",
       "4239              Sara Moscowitz\n",
       "19330           Donald Robertson\n",
       "2272       Phd. Felicia Bradshaw\n",
       "25288              Emma Williams\n",
       "12829               Hilda Huerta\n",
       "12267         Bsc. Anthony Brown\n",
       "10548       Phd. Kimberly Milton\n",
       "11199               Robert Smith\n",
       "26762               Alan Lambert\n",
       "457            Msc. Pamela Moser\n",
       "15901              Sabra Terrell\n",
       "8267           Denise Standridge\n",
       "22941                 John Abreu\n",
       "2803     Bsc. Kimberly Whitehead\n",
       "20623             Cedrick Villar\n",
       "2345          Bsc. Henry Schultz\n",
       "19722                 Ann Murphy\n",
       "17585          George Degasperis\n",
       "1702           Phd. Robert Pires\n",
       "15914             Fannie Onisick\n",
       "Name: customer_name, dtype: object"
      ]
     },
     "execution_count": 22,
     "metadata": {},
     "output_type": "execute_result"
    }
   ],
   "source": [
    "# See pattern in names\n",
    "cust_info['customer_name'].head(20)"
   ]
  },
  {
   "cell_type": "code",
   "execution_count": 23,
   "metadata": {},
   "outputs": [
    {
     "data": {
      "text/plain": [
       "customer_id\n",
       "4239       HS\n",
       "19330      HS\n",
       "2272     Phd.\n",
       "25288      HS\n",
       "12829      HS\n",
       "         ... \n",
       "625      Phd.\n",
       "26447      HS\n",
       "182        HS\n",
       "13768      HS\n",
       "2570     Phd.\n",
       "Name: education, Length: 30000, dtype: object"
      ]
     },
     "execution_count": 23,
     "metadata": {},
     "output_type": "execute_result"
    }
   ],
   "source": [
    "# See level of education of each customer\n",
    "# based on their name\n",
    "cust_info['education'] = cust_info['customer_name'].apply(education)\n",
    "cust_info['education']"
   ]
  },
  {
   "cell_type": "markdown",
   "metadata": {},
   "source": [
    "Transform `customer_gender` into a binary variable"
   ]
  },
  {
   "cell_type": "code",
   "execution_count": 24,
   "metadata": {},
   "outputs": [],
   "source": [
    "cust_info = cat_to_binary(cust_info, 'customer_gender', 'female')\n",
    "cust_info"
   ]
  },
  {
   "cell_type": "markdown",
   "metadata": {},
   "source": [
    "Relation between customers and each loyalty card"
   ]
  },
  {
   "cell_type": "code",
   "execution_count": 54,
   "metadata": {},
   "outputs": [],
   "source": [
    "cust_per_card, count_cards =  frequency_categorical(cust_info, 'loyalty_card_number')"
   ]
  },
  {
   "cell_type": "markdown",
   "metadata": {},
   "source": [
    "## 10. Visualize Data"
   ]
  },
  {
   "cell_type": "code",
   "execution_count": 62,
   "metadata": {},
   "outputs": [],
   "source": [
    "# Change default of plot size\n",
    "rcParams['figure.figsize'] = 15, 10"
   ]
  },
  {
   "cell_type": "markdown",
   "metadata": {},
   "source": [
    "Separate numeric and categorical variables"
   ]
  },
  {
   "cell_type": "code",
   "execution_count": 53,
   "metadata": {},
   "outputs": [],
   "source": [
    "cat_cust_info, num_cust_info = categorical_numerical(\n",
    "    cust_info,\n",
    "    ['customer_name'],\n",
    "    [\n",
    "        'customer_birthdate', 'loyalty_card_number',\n",
    "        'latitude', 'longitude'\n",
    "    ]\n",
    ")"
   ]
  },
  {
   "cell_type": "code",
   "execution_count": 30,
   "metadata": {},
   "outputs": [
    {
     "data": {
      "text/html": [
       "<div>\n",
       "<style scoped>\n",
       "    .dataframe tbody tr th:only-of-type {\n",
       "        vertical-align: middle;\n",
       "    }\n",
       "\n",
       "    .dataframe tbody tr th {\n",
       "        vertical-align: top;\n",
       "    }\n",
       "\n",
       "    .dataframe thead th {\n",
       "        text-align: right;\n",
       "    }\n",
       "</style>\n",
       "<table border=\"1\" class=\"dataframe\">\n",
       "  <thead>\n",
       "    <tr style=\"text-align: right;\">\n",
       "      <th></th>\n",
       "      <th>education</th>\n",
       "    </tr>\n",
       "    <tr>\n",
       "      <th>customer_id</th>\n",
       "      <th></th>\n",
       "    </tr>\n",
       "  </thead>\n",
       "  <tbody>\n",
       "    <tr>\n",
       "      <th>4239</th>\n",
       "      <td>HS</td>\n",
       "    </tr>\n",
       "    <tr>\n",
       "      <th>19330</th>\n",
       "      <td>HS</td>\n",
       "    </tr>\n",
       "    <tr>\n",
       "      <th>2272</th>\n",
       "      <td>Phd.</td>\n",
       "    </tr>\n",
       "    <tr>\n",
       "      <th>25288</th>\n",
       "      <td>HS</td>\n",
       "    </tr>\n",
       "    <tr>\n",
       "      <th>12829</th>\n",
       "      <td>HS</td>\n",
       "    </tr>\n",
       "    <tr>\n",
       "      <th>...</th>\n",
       "      <td>...</td>\n",
       "    </tr>\n",
       "    <tr>\n",
       "      <th>625</th>\n",
       "      <td>Phd.</td>\n",
       "    </tr>\n",
       "    <tr>\n",
       "      <th>26447</th>\n",
       "      <td>HS</td>\n",
       "    </tr>\n",
       "    <tr>\n",
       "      <th>182</th>\n",
       "      <td>HS</td>\n",
       "    </tr>\n",
       "    <tr>\n",
       "      <th>13768</th>\n",
       "      <td>HS</td>\n",
       "    </tr>\n",
       "    <tr>\n",
       "      <th>2570</th>\n",
       "      <td>Phd.</td>\n",
       "    </tr>\n",
       "  </tbody>\n",
       "</table>\n",
       "<p>30000 rows × 1 columns</p>\n",
       "</div>"
      ],
      "text/plain": [
       "            education\n",
       "customer_id          \n",
       "4239               HS\n",
       "19330              HS\n",
       "2272             Phd.\n",
       "25288              HS\n",
       "12829              HS\n",
       "...               ...\n",
       "625              Phd.\n",
       "26447              HS\n",
       "182                HS\n",
       "13768              HS\n",
       "2570             Phd.\n",
       "\n",
       "[30000 rows x 1 columns]"
      ]
     },
     "execution_count": 30,
     "metadata": {},
     "output_type": "execute_result"
    }
   ],
   "source": [
    "# See categorical DataFrame\n",
    "cat_cust_info"
   ]
  },
  {
   "cell_type": "code",
   "execution_count": 31,
   "metadata": {},
   "outputs": [
    {
     "data": {
      "text/html": [
       "<div>\n",
       "<style scoped>\n",
       "    .dataframe tbody tr th:only-of-type {\n",
       "        vertical-align: middle;\n",
       "    }\n",
       "\n",
       "    .dataframe tbody tr th {\n",
       "        vertical-align: top;\n",
       "    }\n",
       "\n",
       "    .dataframe thead th {\n",
       "        text-align: right;\n",
       "    }\n",
       "</style>\n",
       "<table border=\"1\" class=\"dataframe\">\n",
       "  <thead>\n",
       "    <tr style=\"text-align: right;\">\n",
       "      <th></th>\n",
       "      <th>kids_home</th>\n",
       "      <th>teens_home</th>\n",
       "      <th>number_complaints</th>\n",
       "      <th>distinct_stores_visited</th>\n",
       "      <th>lifetime_spend_groceries</th>\n",
       "      <th>lifetime_spend_electronics</th>\n",
       "      <th>typical_hour</th>\n",
       "      <th>lifetime_spend_vegetables</th>\n",
       "      <th>lifetime_spend_nonalcohol_drinks</th>\n",
       "      <th>lifetime_spend_alcohol_drinks</th>\n",
       "      <th>lifetime_spend_meat</th>\n",
       "      <th>lifetime_spend_fish</th>\n",
       "      <th>lifetime_spend_hygiene</th>\n",
       "      <th>lifetime_spend_videogames</th>\n",
       "      <th>lifetime_total_distinct_products</th>\n",
       "      <th>percentage_of_products_bought_promotion</th>\n",
       "      <th>year_first_transaction</th>\n",
       "      <th>age</th>\n",
       "      <th>female</th>\n",
       "    </tr>\n",
       "    <tr>\n",
       "      <th>customer_id</th>\n",
       "      <th></th>\n",
       "      <th></th>\n",
       "      <th></th>\n",
       "      <th></th>\n",
       "      <th></th>\n",
       "      <th></th>\n",
       "      <th></th>\n",
       "      <th></th>\n",
       "      <th></th>\n",
       "      <th></th>\n",
       "      <th></th>\n",
       "      <th></th>\n",
       "      <th></th>\n",
       "      <th></th>\n",
       "      <th></th>\n",
       "      <th></th>\n",
       "      <th></th>\n",
       "      <th></th>\n",
       "      <th></th>\n",
       "    </tr>\n",
       "  </thead>\n",
       "  <tbody>\n",
       "    <tr>\n",
       "      <th>4239</th>\n",
       "      <td>0.0</td>\n",
       "      <td>0.0</td>\n",
       "      <td>0.0</td>\n",
       "      <td>2.0</td>\n",
       "      <td>91.0</td>\n",
       "      <td>20.0</td>\n",
       "      <td>22.0</td>\n",
       "      <td>22.0</td>\n",
       "      <td>195.0</td>\n",
       "      <td>964.0</td>\n",
       "      <td>53.0</td>\n",
       "      <td>48.0</td>\n",
       "      <td>47.0</td>\n",
       "      <td>105.0</td>\n",
       "      <td>85.0</td>\n",
       "      <td>0.192154</td>\n",
       "      <td>2017.0</td>\n",
       "      <td>23</td>\n",
       "      <td>1</td>\n",
       "    </tr>\n",
       "    <tr>\n",
       "      <th>19330</th>\n",
       "      <td>1.0</td>\n",
       "      <td>0.0</td>\n",
       "      <td>0.0</td>\n",
       "      <td>2.0</td>\n",
       "      <td>197.0</td>\n",
       "      <td>5958.0</td>\n",
       "      <td>21.0</td>\n",
       "      <td>20.0</td>\n",
       "      <td>1435.0</td>\n",
       "      <td>434.0</td>\n",
       "      <td>86.0</td>\n",
       "      <td>80.0</td>\n",
       "      <td>45.0</td>\n",
       "      <td>1964.0</td>\n",
       "      <td>85.0</td>\n",
       "      <td>0.098647</td>\n",
       "      <td>2015.0</td>\n",
       "      <td>41</td>\n",
       "      <td>0</td>\n",
       "    </tr>\n",
       "    <tr>\n",
       "      <th>2272</th>\n",
       "      <td>1.0</td>\n",
       "      <td>1.0</td>\n",
       "      <td>0.0</td>\n",
       "      <td>20.0</td>\n",
       "      <td>397.0</td>\n",
       "      <td>20.0</td>\n",
       "      <td>9.0</td>\n",
       "      <td>310.0</td>\n",
       "      <td>379.0</td>\n",
       "      <td>222.0</td>\n",
       "      <td>204.0</td>\n",
       "      <td>170.0</td>\n",
       "      <td>46.0</td>\n",
       "      <td>5.0</td>\n",
       "      <td>408.0</td>\n",
       "      <td>0.497251</td>\n",
       "      <td>2008.0</td>\n",
       "      <td>36</td>\n",
       "      <td>1</td>\n",
       "    </tr>\n",
       "    <tr>\n",
       "      <th>25288</th>\n",
       "      <td>3.0</td>\n",
       "      <td>4.0</td>\n",
       "      <td>1.0</td>\n",
       "      <td>2.0</td>\n",
       "      <td>5282.0</td>\n",
       "      <td>237.0</td>\n",
       "      <td>12.0</td>\n",
       "      <td>499.0</td>\n",
       "      <td>873.0</td>\n",
       "      <td>460.0</td>\n",
       "      <td>1081.0</td>\n",
       "      <td>1068.0</td>\n",
       "      <td>617.0</td>\n",
       "      <td>1078.0</td>\n",
       "      <td>1956.0</td>\n",
       "      <td>0.206713</td>\n",
       "      <td>2010.0</td>\n",
       "      <td>80</td>\n",
       "      <td>1</td>\n",
       "    </tr>\n",
       "    <tr>\n",
       "      <th>12829</th>\n",
       "      <td>0.0</td>\n",
       "      <td>0.0</td>\n",
       "      <td>0.0</td>\n",
       "      <td>2.0</td>\n",
       "      <td>82.0</td>\n",
       "      <td>22.0</td>\n",
       "      <td>21.0</td>\n",
       "      <td>9.0</td>\n",
       "      <td>172.0</td>\n",
       "      <td>856.0</td>\n",
       "      <td>39.0</td>\n",
       "      <td>39.0</td>\n",
       "      <td>48.0</td>\n",
       "      <td>103.0</td>\n",
       "      <td>83.0</td>\n",
       "      <td>0.200625</td>\n",
       "      <td>2015.0</td>\n",
       "      <td>23</td>\n",
       "      <td>1</td>\n",
       "    </tr>\n",
       "    <tr>\n",
       "      <th>...</th>\n",
       "      <td>...</td>\n",
       "      <td>...</td>\n",
       "      <td>...</td>\n",
       "      <td>...</td>\n",
       "      <td>...</td>\n",
       "      <td>...</td>\n",
       "      <td>...</td>\n",
       "      <td>...</td>\n",
       "      <td>...</td>\n",
       "      <td>...</td>\n",
       "      <td>...</td>\n",
       "      <td>...</td>\n",
       "      <td>...</td>\n",
       "      <td>...</td>\n",
       "      <td>...</td>\n",
       "      <td>...</td>\n",
       "      <td>...</td>\n",
       "      <td>...</td>\n",
       "      <td>...</td>\n",
       "    </tr>\n",
       "    <tr>\n",
       "      <th>625</th>\n",
       "      <td>0.0</td>\n",
       "      <td>0.0</td>\n",
       "      <td>1.0</td>\n",
       "      <td>2.0</td>\n",
       "      <td>209.0</td>\n",
       "      <td>5474.0</td>\n",
       "      <td>20.0</td>\n",
       "      <td>18.0</td>\n",
       "      <td>1435.0</td>\n",
       "      <td>521.0</td>\n",
       "      <td>21.0</td>\n",
       "      <td>11.0</td>\n",
       "      <td>57.0</td>\n",
       "      <td>1984.0</td>\n",
       "      <td>112.0</td>\n",
       "      <td>0.096366</td>\n",
       "      <td>2008.0</td>\n",
       "      <td>48</td>\n",
       "      <td>1</td>\n",
       "    </tr>\n",
       "    <tr>\n",
       "      <th>26447</th>\n",
       "      <td>0.0</td>\n",
       "      <td>0.0</td>\n",
       "      <td>0.0</td>\n",
       "      <td>3.0</td>\n",
       "      <td>185.0</td>\n",
       "      <td>1066.0</td>\n",
       "      <td>15.0</td>\n",
       "      <td>267.0</td>\n",
       "      <td>276.0</td>\n",
       "      <td>287.0</td>\n",
       "      <td>47.0</td>\n",
       "      <td>41.0</td>\n",
       "      <td>50.0</td>\n",
       "      <td>197.0</td>\n",
       "      <td>22.0</td>\n",
       "      <td>0.118998</td>\n",
       "      <td>2014.0</td>\n",
       "      <td>37</td>\n",
       "      <td>0</td>\n",
       "    </tr>\n",
       "    <tr>\n",
       "      <th>182</th>\n",
       "      <td>0.0</td>\n",
       "      <td>0.0</td>\n",
       "      <td>0.0</td>\n",
       "      <td>2.0</td>\n",
       "      <td>83.0</td>\n",
       "      <td>23.0</td>\n",
       "      <td>23.0</td>\n",
       "      <td>23.0</td>\n",
       "      <td>189.0</td>\n",
       "      <td>921.0</td>\n",
       "      <td>55.0</td>\n",
       "      <td>52.0</td>\n",
       "      <td>51.0</td>\n",
       "      <td>94.0</td>\n",
       "      <td>77.0</td>\n",
       "      <td>0.199432</td>\n",
       "      <td>2016.0</td>\n",
       "      <td>22</td>\n",
       "      <td>0</td>\n",
       "    </tr>\n",
       "    <tr>\n",
       "      <th>13768</th>\n",
       "      <td>1.0</td>\n",
       "      <td>0.0</td>\n",
       "      <td>1.0</td>\n",
       "      <td>20.0</td>\n",
       "      <td>391.0</td>\n",
       "      <td>20.0</td>\n",
       "      <td>10.0</td>\n",
       "      <td>295.0</td>\n",
       "      <td>301.0</td>\n",
       "      <td>250.0</td>\n",
       "      <td>160.0</td>\n",
       "      <td>132.0</td>\n",
       "      <td>54.0</td>\n",
       "      <td>5.0</td>\n",
       "      <td>398.0</td>\n",
       "      <td>0.494527</td>\n",
       "      <td>2006.0</td>\n",
       "      <td>64</td>\n",
       "      <td>0</td>\n",
       "    </tr>\n",
       "    <tr>\n",
       "      <th>2570</th>\n",
       "      <td>1.0</td>\n",
       "      <td>1.0</td>\n",
       "      <td>0.0</td>\n",
       "      <td>2.0</td>\n",
       "      <td>834.0</td>\n",
       "      <td>596.0</td>\n",
       "      <td>18.0</td>\n",
       "      <td>339.0</td>\n",
       "      <td>522.0</td>\n",
       "      <td>218.0</td>\n",
       "      <td>164.0</td>\n",
       "      <td>103.0</td>\n",
       "      <td>51.0</td>\n",
       "      <td>192.0</td>\n",
       "      <td>27.0</td>\n",
       "      <td>0.092385</td>\n",
       "      <td>2012.0</td>\n",
       "      <td>79</td>\n",
       "      <td>0</td>\n",
       "    </tr>\n",
       "  </tbody>\n",
       "</table>\n",
       "<p>30000 rows × 19 columns</p>\n",
       "</div>"
      ],
      "text/plain": [
       "             kids_home  teens_home  number_complaints  \\\n",
       "customer_id                                             \n",
       "4239               0.0         0.0                0.0   \n",
       "19330              1.0         0.0                0.0   \n",
       "2272               1.0         1.0                0.0   \n",
       "25288              3.0         4.0                1.0   \n",
       "12829              0.0         0.0                0.0   \n",
       "...                ...         ...                ...   \n",
       "625                0.0         0.0                1.0   \n",
       "26447              0.0         0.0                0.0   \n",
       "182                0.0         0.0                0.0   \n",
       "13768              1.0         0.0                1.0   \n",
       "2570               1.0         1.0                0.0   \n",
       "\n",
       "             distinct_stores_visited  lifetime_spend_groceries  \\\n",
       "customer_id                                                      \n",
       "4239                             2.0                      91.0   \n",
       "19330                            2.0                     197.0   \n",
       "2272                            20.0                     397.0   \n",
       "25288                            2.0                    5282.0   \n",
       "12829                            2.0                      82.0   \n",
       "...                              ...                       ...   \n",
       "625                              2.0                     209.0   \n",
       "26447                            3.0                     185.0   \n",
       "182                              2.0                      83.0   \n",
       "13768                           20.0                     391.0   \n",
       "2570                             2.0                     834.0   \n",
       "\n",
       "             lifetime_spend_electronics  typical_hour  \\\n",
       "customer_id                                             \n",
       "4239                               20.0          22.0   \n",
       "19330                            5958.0          21.0   \n",
       "2272                               20.0           9.0   \n",
       "25288                             237.0          12.0   \n",
       "12829                              22.0          21.0   \n",
       "...                                 ...           ...   \n",
       "625                              5474.0          20.0   \n",
       "26447                            1066.0          15.0   \n",
       "182                                23.0          23.0   \n",
       "13768                              20.0          10.0   \n",
       "2570                              596.0          18.0   \n",
       "\n",
       "             lifetime_spend_vegetables  lifetime_spend_nonalcohol_drinks  \\\n",
       "customer_id                                                                \n",
       "4239                              22.0                             195.0   \n",
       "19330                             20.0                            1435.0   \n",
       "2272                             310.0                             379.0   \n",
       "25288                            499.0                             873.0   \n",
       "12829                              9.0                             172.0   \n",
       "...                                ...                               ...   \n",
       "625                               18.0                            1435.0   \n",
       "26447                            267.0                             276.0   \n",
       "182                               23.0                             189.0   \n",
       "13768                            295.0                             301.0   \n",
       "2570                             339.0                             522.0   \n",
       "\n",
       "             lifetime_spend_alcohol_drinks  lifetime_spend_meat  \\\n",
       "customer_id                                                       \n",
       "4239                                 964.0                 53.0   \n",
       "19330                                434.0                 86.0   \n",
       "2272                                 222.0                204.0   \n",
       "25288                                460.0               1081.0   \n",
       "12829                                856.0                 39.0   \n",
       "...                                    ...                  ...   \n",
       "625                                  521.0                 21.0   \n",
       "26447                                287.0                 47.0   \n",
       "182                                  921.0                 55.0   \n",
       "13768                                250.0                160.0   \n",
       "2570                                 218.0                164.0   \n",
       "\n",
       "             lifetime_spend_fish  lifetime_spend_hygiene  \\\n",
       "customer_id                                                \n",
       "4239                        48.0                    47.0   \n",
       "19330                       80.0                    45.0   \n",
       "2272                       170.0                    46.0   \n",
       "25288                     1068.0                   617.0   \n",
       "12829                       39.0                    48.0   \n",
       "...                          ...                     ...   \n",
       "625                         11.0                    57.0   \n",
       "26447                       41.0                    50.0   \n",
       "182                         52.0                    51.0   \n",
       "13768                      132.0                    54.0   \n",
       "2570                       103.0                    51.0   \n",
       "\n",
       "             lifetime_spend_videogames  lifetime_total_distinct_products  \\\n",
       "customer_id                                                                \n",
       "4239                             105.0                              85.0   \n",
       "19330                           1964.0                              85.0   \n",
       "2272                               5.0                             408.0   \n",
       "25288                           1078.0                            1956.0   \n",
       "12829                            103.0                              83.0   \n",
       "...                                ...                               ...   \n",
       "625                             1984.0                             112.0   \n",
       "26447                            197.0                              22.0   \n",
       "182                               94.0                              77.0   \n",
       "13768                              5.0                             398.0   \n",
       "2570                             192.0                              27.0   \n",
       "\n",
       "             percentage_of_products_bought_promotion  year_first_transaction  \\\n",
       "customer_id                                                                    \n",
       "4239                                        0.192154                  2017.0   \n",
       "19330                                       0.098647                  2015.0   \n",
       "2272                                        0.497251                  2008.0   \n",
       "25288                                       0.206713                  2010.0   \n",
       "12829                                       0.200625                  2015.0   \n",
       "...                                              ...                     ...   \n",
       "625                                         0.096366                  2008.0   \n",
       "26447                                       0.118998                  2014.0   \n",
       "182                                         0.199432                  2016.0   \n",
       "13768                                       0.494527                  2006.0   \n",
       "2570                                        0.092385                  2012.0   \n",
       "\n",
       "             age  female  \n",
       "customer_id               \n",
       "4239          23       1  \n",
       "19330         41       0  \n",
       "2272          36       1  \n",
       "25288         80       1  \n",
       "12829         23       1  \n",
       "...          ...     ...  \n",
       "625           48       1  \n",
       "26447         37       0  \n",
       "182           22       0  \n",
       "13768         64       0  \n",
       "2570          79       0  \n",
       "\n",
       "[30000 rows x 19 columns]"
      ]
     },
     "execution_count": 31,
     "metadata": {},
     "output_type": "execute_result"
    }
   ],
   "source": [
    "# See numerical DataFrame\n",
    "num_cust_info"
   ]
  },
  {
   "cell_type": "markdown",
   "metadata": {},
   "source": [
    "### Numerical Data"
   ]
  },
  {
   "cell_type": "markdown",
   "metadata": {},
   "source": [
    "Bar chart with number of customers per loyalty card"
   ]
  },
  {
   "cell_type": "code",
   "execution_count": 55,
   "metadata": {},
   "outputs": [
    {
     "data": {
      "image/png": "[encoded data removed]",
      "text/plain": [
       "<Figure size 432x288 with 1 Axes>"
      ]
     },
     "metadata": {
      "needs_background": "light"
     },
     "output_type": "display_data"
    }
   ],
   "source": [
    "bar_chart(cust_per_card, count_cards,\n",
    "          '# Customers', '# Loyalty Cards', \n",
    "          '# Customers per Loyalty Card')"
   ]
  },
  {
   "cell_type": "code",
   "execution_count": 59,
   "metadata": {},
   "outputs": [],
   "source": [
    "spend_groups = num_cust_info[['lifetime_spend_vegetables',\n",
    "                        'lifetime_spend_nonalcohol_drinks','lifetime_spend_alcohol_drinks','lifetime_spend_meat',\n",
    "                        'lifetime_spend_hygiene','lifetime_spend_videogames']]\n",
    "fish_group = num_cust_info['lifetime_spend_fish']\n",
    "groc_group = num_cust_info['lifetime_spend_groceries']\n",
    "elec_group = num_cust_info['lifetime_spend_electronics']"
   ]
  },
  {
   "cell_type": "code",
   "execution_count": 63,
   "metadata": {},
   "outputs": [
    {
     "data": {
      "image/png": "[encoded data removed]",
      "text/plain": [
       "<Figure size 1080x720 with 1 Axes>"
      ]
     },
     "metadata": {
      "needs_background": "light"
     },
     "output_type": "display_data"
    }
   ],
   "source": [
    "boxplot(spend_groups, \n",
    "        ['lifetime_spend_vegetables',\n",
    "        'lifetime_spend_nonalcohol_drinks','lifetime_spend_alcohol_drinks','lifetime_spend_meat',\n",
    "        'lifetime_spend_hygiene','lifetime_spend_videogames'],\n",
    "       'spent')"
   ]
  },
  {
   "cell_type": "code",
   "execution_count": 65,
   "metadata": {},
   "outputs": [
    {
     "data": {
      "image/png": "[encoded data removed]",
      "text/plain": [
       "<Figure size 1080x720 with 1 Axes>"
      ]
     },
     "metadata": {
      "needs_background": "light"
     },
     "output_type": "display_data"
    }
   ],
   "source": [
    "boxplot(elec_group,\n",
    "       ['lifetime_spend_electronics'],\n",
    "       'spent on electronics')"
   ]
  },
  {
   "cell_type": "code",
   "execution_count": 66,
   "metadata": {},
   "outputs": [
    {
     "data": {
      "image/png": "[encoded data removed]",
      "text/plain": [
       "<Figure size 1080x720 with 1 Axes>"
      ]
     },
     "metadata": {
      "needs_background": "light"
     },
     "output_type": "display_data"
    }
   ],
   "source": [
    "boxplot(fish_group,\n",
    "       ['lifetime_spend_fish'],\n",
    "       'spent on fish')"
   ]
  },
  {
   "cell_type": "code",
   "execution_count": 107,
   "metadata": {
    "scrolled": true
   },
   "outputs": [
    {
     "data": {
      "image/png": "[encoded data removed]",
      "text/plain": [
       "<Figure size 1500x1000 with 1 Axes>"
      ]
     },
     "metadata": {},
     "output_type": "display_data"
    }
   ],
   "source": [
    "plt.boxplot(groc_group,vert=False,labels=['lifetime_spend_groceries'])\n",
    "plt.title('Boxplot of spent on groceries')\n",
    "plt.show()"
   ]
  },
  {
   "cell_type": "code",
   "execution_count": null,
   "metadata": {},
   "outputs": [],
   "source": [
    "#  no relatorio explicar porque é que separamos as coisas, foi porque nao dava para visualizar bem "
   ]
  },
  {
   "cell_type": "code",
   "execution_count": null,
   "metadata": {},
   "outputs": [],
   "source": [
    "## fazer bar chart de compliants, tipo por cada customer porque vai haver malta com muitos complaints"
   ]
  },
  {
   "cell_type": "markdown",
   "metadata": {},
   "source": [
    "### Categorical Data"
   ]
  },
  {
   "cell_type": "markdown",
   "metadata": {},
   "source": [
    "## 11. Correlation"
   ]
  },
  {
   "cell_type": "code",
   "execution_count": 45,
   "metadata": {
    "scrolled": true
   },
   "outputs": [
    {
     "data": {
      "text/plain": [
       "<Axes: >"
      ]
     },
     "execution_count": 45,
     "metadata": {},
     "output_type": "execute_result"
    },
    {
     "data": {
      "image/png": "[encoded data removed]",
      "text/plain": [
       "<Figure size 1500x1000 with 2 Axes>"
      ]
     },
     "metadata": {},
     "output_type": "display_data"
    }
   ],
   "source": [
    "corr = num_cust_info.drop(['female'], axis=1).corr()\n",
    "sns.heatmap(corr, \n",
    "        xticklabels=corr.columns,\n",
    "        yticklabels=corr.columns, cmap='cubehelix')"
   ]
  },
  {
   "cell_type": "markdown",
   "metadata": {},
   "source": [
    "## 12. Explore"
   ]
  },
  {
   "cell_type": "markdown",
   "metadata": {},
   "source": [
    "## 13.Export Datasets"
   ]
  },
  {
   "cell_type": "markdown",
   "metadata": {},
   "source": [
    "Dataset with outliers"
   ]
  },
  {
   "cell_type": "markdown",
   "metadata": {},
   "source": [
    "Dataset without outliers"
   ]
  },
  {
   "cell_type": "markdown",
   "metadata": {},
   "source": [
    "Dataset with outliers only"
   ]
  },
  {
   "cell_type": "markdown",
   "metadata": {},
   "source": [
    "## 14. Conclusion"
   ]
  },
  {
   "cell_type": "code",
   "execution_count": null,
   "metadata": {},
   "outputs": [],
   "source": []
  }
 ],
 "metadata": {
  "kernelspec": {
   "display_name": "Python 3 (ipykernel)",
   "language": "python",
   "name": "python3"
  },
  "language_info": {
   "codemirror_mode": {
    "name": "ipython",
    "version": 3
   },
   "file_extension": ".py",
   "mimetype": "text/x-python",
   "name": "python",
   "nbconvert_exporter": "python",
   "pygments_lexer": "ipython3",
   "version": "3.9.7"
  }
 },
 "nbformat": 4,
 "nbformat_minor": 2
}
